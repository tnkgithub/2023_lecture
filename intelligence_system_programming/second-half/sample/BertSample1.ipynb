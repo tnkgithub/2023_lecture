{
 "cells": [
  {
   "cell_type": "code",
   "execution_count": 1,
   "id": "e60f5d54-7370-44f7-9480-25f948569b7a",
   "metadata": {},
   "outputs": [
    {
     "name": "stderr",
     "output_type": "stream",
     "text": [
      "Some weights of the model checkpoint at cl-tohoku/bert-base-japanese-whole-word-masking were not used when initializing BertForMaskedLM: ['cls.seq_relationship.bias', 'cls.seq_relationship.weight']\n",
      "- This IS expected if you are initializing BertForMaskedLM from the checkpoint of a model trained on another task or with another architecture (e.g. initializing a BertForSequenceClassification model from a BertForPreTraining model).\n",
      "- This IS NOT expected if you are initializing BertForMaskedLM from the checkpoint of a model that you expect to be exactly identical (initializing a BertForSequenceClassification model from a BertForSequenceClassification model).\n"
     ]
    },
    {
     "data": {
      "text/plain": [
       "BertForMaskedLM(\n",
       "  (bert): BertModel(\n",
       "    (embeddings): BertEmbeddings(\n",
       "      (word_embeddings): Embedding(32000, 768, padding_idx=0)\n",
       "      (position_embeddings): Embedding(512, 768)\n",
       "      (token_type_embeddings): Embedding(2, 768)\n",
       "      (LayerNorm): LayerNorm((768,), eps=1e-12, elementwise_affine=True)\n",
       "      (dropout): Dropout(p=0.1, inplace=False)\n",
       "    )\n",
       "    (encoder): BertEncoder(\n",
       "      (layer): ModuleList(\n",
       "        (0-11): 12 x BertLayer(\n",
       "          (attention): BertAttention(\n",
       "            (self): BertSelfAttention(\n",
       "              (query): Linear(in_features=768, out_features=768, bias=True)\n",
       "              (key): Linear(in_features=768, out_features=768, bias=True)\n",
       "              (value): Linear(in_features=768, out_features=768, bias=True)\n",
       "              (dropout): Dropout(p=0.1, inplace=False)\n",
       "            )\n",
       "            (output): BertSelfOutput(\n",
       "              (dense): Linear(in_features=768, out_features=768, bias=True)\n",
       "              (LayerNorm): LayerNorm((768,), eps=1e-12, elementwise_affine=True)\n",
       "              (dropout): Dropout(p=0.1, inplace=False)\n",
       "            )\n",
       "          )\n",
       "          (intermediate): BertIntermediate(\n",
       "            (dense): Linear(in_features=768, out_features=3072, bias=True)\n",
       "            (intermediate_act_fn): GELUActivation()\n",
       "          )\n",
       "          (output): BertOutput(\n",
       "            (dense): Linear(in_features=3072, out_features=768, bias=True)\n",
       "            (LayerNorm): LayerNorm((768,), eps=1e-12, elementwise_affine=True)\n",
       "            (dropout): Dropout(p=0.1, inplace=False)\n",
       "          )\n",
       "        )\n",
       "      )\n",
       "    )\n",
       "  )\n",
       "  (cls): BertOnlyMLMHead(\n",
       "    (predictions): BertLMPredictionHead(\n",
       "      (transform): BertPredictionHeadTransform(\n",
       "        (dense): Linear(in_features=768, out_features=768, bias=True)\n",
       "        (transform_act_fn): GELUActivation()\n",
       "        (LayerNorm): LayerNorm((768,), eps=1e-12, elementwise_affine=True)\n",
       "      )\n",
       "      (decoder): Linear(in_features=768, out_features=32000, bias=True)\n",
       "    )\n",
       "  )\n",
       ")"
      ]
     },
     "execution_count": 1,
     "metadata": {},
     "output_type": "execute_result"
    }
   ],
   "source": [
    "# 必要なライブラリをインポート\n",
    "import torch\n",
    "from transformers import AutoTokenizer, AutoModelForMaskedLM\n",
    "\n",
    "##Tokenizer, 事前学習されたLanguage modelを準備，日本語BERTを指定\n",
    "tokenizer = AutoTokenizer.from_pretrained(\"cl-tohoku/bert-base-japanese-whole-word-masking\")\n",
    "model = AutoModelForMaskedLM.from_pretrained(\"cl-tohoku/bert-base-japanese-whole-word-masking\")\n",
    "##Language modelを評価モードに\n",
    "model.eval()\n"
   ]
  },
  {
   "cell_type": "code",
   "execution_count": 2,
   "id": "c8c093ce-368b-4f33-8cb8-6f1893731bc4",
   "metadata": {},
   "outputs": [],
   "source": [
    "##一部がマスクされた文章を用意．マスクは[MASK]で表現\n",
    "text = 'ある日の暮方の事である。一人の下人が、羅生門の下で[MASK]を待っていた。'\n",
    "##文章をBERT内で扱われる数値表現に変換\n",
    "input_ids = tokenizer.encode(text, return_tensors='pt')\n",
    "##[MASK]の位置を取得しておく．\n",
    "masked_index = torch.where(input_ids == tokenizer.mask_token_id)[1].tolist()[0]"
   ]
  },
  {
   "cell_type": "code",
   "execution_count": 3,
   "id": "916fd4e9-b5be-4c4b-95fe-7d6bdb88a07f",
   "metadata": {},
   "outputs": [
    {
     "name": "stdout",
     "output_type": "stream",
     "text": [
      "1:彼\n",
      "2:夜\n",
      "3:帰り\n",
      "4:旅人\n",
      "5:[UNK]\n",
      "6:春\n",
      "7:人\n",
      "8:時\n",
      "9:日\n",
      "10:彼ら\n"
     ]
    }
   ],
   "source": [
    "with torch.no_grad():##計算グラフを作らず勾配計算を行わないようにする．\n",
    "    results = model(input_ids)##[MASK]部分を推論\n",
    "    predictions = results[0][0, masked_index].topk(10)# 推論結果上位10件を取得\n",
    "    pred_ids = predictions.indices.tolist()# 結果をリスト形式に\n",
    "    \n",
    "    for i, pred_id in zip(range(len(pred_ids)), pred_ids):##1位から順に表示\n",
    "        word_ids = [pred_id]\n",
    "        decoded_word = tokenizer.decode(word_ids)## 数値を実際の単語に変換\n",
    "        print(str(i+1) + ':' + decoded_word)"
   ]
  },
  {
   "cell_type": "code",
   "execution_count": null,
   "id": "67b629b5-861b-4d28-8e99-13962423a383",
   "metadata": {},
   "outputs": [],
   "source": []
  },
  {
   "cell_type": "code",
   "execution_count": null,
   "id": "968ff2b5-3aca-4de8-8cf9-e4cd3f120dfa",
   "metadata": {},
   "outputs": [],
   "source": []
  }
 ],
 "metadata": {
  "kernelspec": {
   "display_name": "Python 3 (ipykernel)",
   "language": "python",
   "name": "python3"
  },
  "language_info": {
   "codemirror_mode": {
    "name": "ipython",
    "version": 3
   },
   "file_extension": ".py",
   "mimetype": "text/x-python",
   "name": "python",
   "nbconvert_exporter": "python",
   "pygments_lexer": "ipython3",
   "version": "3.10.6"
  }
 },
 "nbformat": 4,
 "nbformat_minor": 5
}
